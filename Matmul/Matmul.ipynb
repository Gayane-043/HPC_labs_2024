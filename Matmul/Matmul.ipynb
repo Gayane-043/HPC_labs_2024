{
 "cells": [
  {
   "cell_type": "code",
   "execution_count": null,
   "metadata": {
    "colab": {
     "base_uri": "https://localhost:8080/"
    },
    "id": "e6y4f1ulrEAv",
    "outputId": "ade0fbf9-04c4-4f89-8f0b-00f84a1c519a"
   },
   "outputs": [
    {
     "name": "stdout",
     "output_type": "stream",
     "text": [
      "Результат на CPU:\n",
      "[[27.0379134  25.32158792 29.30594854 ... 26.37328934 26.39472216\n",
      "  26.04615775]\n",
      " [29.33580841 29.20640031 30.56407989 ... 29.55442155 28.06162371\n",
      "  26.98966535]\n",
      " [24.49076056 23.70258806 27.54071392 ... 25.45100001 25.24859285\n",
      "  23.44797596]\n",
      " ...\n",
      " [29.93629677 29.88283232 30.70600034 ... 29.57247705 29.36857406\n",
      "  27.81920677]\n",
      " [24.57155163 23.26905093 25.04366097 ... 25.82839552 23.10185938\n",
      "  22.09515909]\n",
      " [25.95758486 26.01152916 29.45953711 ... 27.57856058 27.34694897\n",
      "  25.49481631]]\n",
      "Время на CPU: 0.5625383853912354 секунд\n",
      "Результат на GPU:\n",
      "[[27.0379134  25.32158792 29.30594854 ... 26.37328934 26.39472216\n",
      "  26.04615775]\n",
      " [29.33580841 29.20640031 30.56407989 ... 29.55442155 28.06162371\n",
      "  26.98966535]\n",
      " [24.49076056 23.70258806 27.54071392 ... 25.45100001 25.24859285\n",
      "  23.44797596]\n",
      " ...\n",
      " [29.93629677 29.88283232 30.70600034 ... 29.57247705 29.36857406\n",
      "  27.81920677]\n",
      " [24.57155163 23.26905093 25.04366097 ... 25.82839552 23.10185938\n",
      "  22.09515909]\n",
      " [25.95758486 26.01152916 29.45953711 ... 27.57856058 27.34694897\n",
      "  25.49481631]]\n",
      "Время на GPU: 0.0005943775177001953 секунд\n"
     ]
    }
   ],
   "source": [
    "import cupy as cp\n",
    "import numpy as np\n",
    "import time\n",
    "\n",
    "def matmul_on_cpu(a, b):\n",
    "  # Проверка корректности перемножения\n",
    "  if a.shape[1] != b.shape[0]:\n",
    "      raise NameError(\"Ошибка перемножения матриц! Введите корректные размеры матриц\")\n",
    "  c = np.zeros((a.shape[0], b.shape[1]))\n",
    "  start = time.time()\n",
    "  for i in range(a.shape[0]):\n",
    "      for j in range(b.shape[1]):\n",
    "          for k in range(a.shape[1]):\n",
    "              c[i, j] += a[i, k] * b[k, j]\n",
    "  end = time.time()\n",
    "  all_time = end - start\n",
    "  return c, all_time\n",
    "\n",
    "def matmul_on_gpu(a, b):\n",
    "  # Проверка корректности перемножения\n",
    "  if a.shape[1] != b.shape[0]:\n",
    "      raise NameError(\"Ошибка перемножения матриц! Введите корректные размеры матриц\")\n",
    "  # Перенос матриц на GPU\n",
    "  a_gpu = cp.asarray(a)\n",
    "  b_gpu = cp.asarray(b)\n",
    "  start = time.time()\n",
    "  c_gpu = cp.dot(a_gpu, b_gpu)\n",
    "  c = cp.asnumpy(c_gpu)  # Возвращаем результат на CPU\n",
    "  end = time.time()\n",
    "  all_time = end - start\n",
    "  return c, all_time\n",
    "\n",
    "if __name__ == \"__main__\":\n",
    "  size = (100, 100)\n",
    "  a = np.random.rand(*size)\n",
    "  b = np.random.rand(*size)\n",
    "  dot_on_cpu, t_on_cpu = matmul_on_cpu(a, b)\n",
    "  dot_on_gpu, t_on_gpu = matmul_on_gpu(a, b)\n",
    "  print(f\"Результат на CPU:\\n{dot_on_cpu}\")\n",
    "  print(f\"Время на CPU: {t_on_cpu} секунд\")\n",
    "  print(f\"Результат на GPU:\\n{dot_on_gpu}\")\n",
    "  print(f\"Время на GPU: {t_on_gpu} секунд\")"
   ]
  }
 ],
 "metadata": {
  "accelerator": "GPU",
  "colab": {
   "gpuType": "T4",
   "provenance": []
  },
  "kernelspec": {
   "display_name": "Python 3",
   "language": "python",
   "name": "python3"
  },
  "language_info": {
   "codemirror_mode": {
    "name": "ipython",
    "version": 3
   },
   "file_extension": ".py",
   "mimetype": "text/x-python",
   "name": "python",
   "nbconvert_exporter": "python",
   "pygments_lexer": "ipython3",
   "version": "3.8.8"
  }
 },
 "nbformat": 4,
 "nbformat_minor": 1
}
