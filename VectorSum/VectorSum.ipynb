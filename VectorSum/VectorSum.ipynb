{
  "nbformat": 4,
  "nbformat_minor": 0,
  "metadata": {
    "colab": {
      "provenance": [],
      "gpuType": "T4"
    },
    "kernelspec": {
      "name": "python3",
      "display_name": "Python 3"
    },
    "language_info": {
      "name": "python"
    },
    "accelerator": "GPU"
  },
  "cells": [
    {
      "cell_type": "code",
      "execution_count": null,
      "metadata": {
        "colab": {
          "base_uri": "https://localhost:8080/"
        },
        "id": "kNek7LEM-ig1",
        "outputId": "c3956899-6b3c-4613-ae19-6ebd3d5c121a"
      },
      "outputs": [
        {
          "output_type": "stream",
          "name": "stdout",
          "text": [
            "Сумма на CPU: 497.9765403555076\n",
            "Время на CPU: 0.00020194053649902344 секунд\n",
            "Сумма на GPU: 497.97654035550784\n",
            "Время на GPU: 0.00024628639221191406 секунд\n"
          ]
        }
      ],
      "source": [
        "import numpy as np\n",
        "import cupy as cp\n",
        "import time\n",
        "\n",
        "# Функция для сложения элементов вектора на CPU\n",
        "def vecsum_on_cpu(vec):\n",
        "  sum_cpu = 0\n",
        "  start = time.time()\n",
        "  for i in vec: sum_cpu += i\n",
        "  end = time.time()\n",
        "  all_time = end - start\n",
        "  return sum_cpu, all_time\n",
        "\n",
        "# Функция для сложения элементов вектора на CGPU\n",
        "def vecsum_on_gpu(vec):\n",
        "  # Копия вектора на GPU\n",
        "  vec_gpu = cp.asarray(vec)\n",
        "  start = time.time()\n",
        "  sum_gpu = cp.sum(vec_gpu)\n",
        "  sum_cpu = cp.asnumpy(sum_gpu) # Возвращаем результат на CPU\n",
        "  end = time.time()\n",
        "  all_time = end - start\n",
        "  return sum_cpu, all_time\n",
        "\n",
        "if __name__ == \"__main__\":\n",
        "    # Генерация вектора с случайными значениями\n",
        "    size = 1000\n",
        "    vec = np.random.rand(size)\n",
        "    sum_on_cpu, cpu_time = vecsum_on_cpu(vec)\n",
        "    sum_on_gpu, gpu_time = vecsum_on_gpu(vec)\n",
        "    print(f\"Сумма на CPU: {sum_on_cpu}\")\n",
        "    print(f\"Время на CPU: {cpu_time} секунд\")\n",
        "    print(f\"Сумма на GPU: {sum_on_gpu}\")\n",
        "    print(f\"Время на GPU: {gpu_time} секунд\")"
      ]
    }
  ]
}