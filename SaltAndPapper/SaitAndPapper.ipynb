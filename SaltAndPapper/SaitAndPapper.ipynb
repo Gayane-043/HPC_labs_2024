{
 "cells": [
  {
   "cell_type": "code",
   "execution_count": 3,
   "metadata": {
    "colab": {
     "base_uri": "https://localhost:8080/"
    },
    "id": "HxoCP5In4ifx",
    "outputId": "cca45bd4-0a57-4d61-b30b-3d1becd41e63"
   },
   "outputs": [
    {
     "name": "stdout",
     "output_type": "stream",
     "text": [
      "Output image saved as output.bmp\n",
      "Time taken: 0.002 seconds\n"
     ]
    }
   ],
   "source": [
    "import numpy as np\n",
    "from PIL import Image\n",
    "import time\n",
    "from numba import cuda\n",
    "\n",
    "# Загрузка изображения \n",
    "def load_image(filepath):\n",
    "    image = Image.open(filepath).convert(\"L\")  # Преобразование цветного изображение в серое\n",
    "    img_array = np.array(image, dtype=np.uint8)\n",
    "    return img_array\n",
    "\n",
    "def save_image(img_array, filepath):\n",
    "    img_array = np.clip(img_array, 0, 255)  # Обрезаем значения пикселей \n",
    "    image = Image.fromarray(img_array.astype(np.uint8))  # Преобразуем в uint8\n",
    "    image.save(filepath)\n",
    "\n",
    "# CUDA ядро для медианного фильтра\n",
    "@cuda.jit\n",
    "def median_filter(input_image, output_image, width, height):\n",
    "    x, y = cuda.grid(2)\n",
    "    if x >= 1 and x < width - 1 and y >= 1 and y < height - 1:\n",
    "        window = np.zeros(9, dtype=np.uint8)\n",
    "        idx = 0\n",
    "        # Собираем окно 3x3\n",
    "        for i in range(-1, 2):\n",
    "            for j in range(-1, 2):\n",
    "                window[idx] = input_image[y + i, x + j]\n",
    "                idx += 1\n",
    "        # Сортируем окно для нахождения медианы\n",
    "        window.sort()\n",
    "        # Устанавливаем медиану\n",
    "        output_image[y, x] = window[4]\n",
    "\n",
    "def apply_median_filter(img_array):\n",
    "    height, width = img_array.shape\n",
    "    # Создаем выходной массив\n",
    "    output_image = np.zeros_like(img_array)\n",
    "    # Переносим данные на GPU\n",
    "    d_input = cuda.to_device(img_array)\n",
    "    d_output = cuda.to_device(output_image)\n",
    "    # Настройка сетки и блоков\n",
    "    threads_per_block = (16, 16)\n",
    "    blocks_per_grid_x = (width + (threads_per_block[0] - 1)) // threads_per_block[0]\n",
    "    blocks_per_grid_y = (height + (threads_per_block[1] - 1)) // threads_per_block[1]\n",
    "    # Запуск CUDA ядра\n",
    "    median_filter[(blocks_per_grid_x, blocks_per_grid_y), threads_per_block, (d_input, d_output, width, height)]\n",
    "    # Копируем результат обратно на CPU\n",
    "    return d_output.copy_to_host()\n",
    "\n",
    "if __name__ == \"__main__\":\n",
    "    input_path = \"input.bmp\" # Исходное изображение - изображение с шумом\n",
    "    output_path = \"output.bmp\" # Выходное изображение\n",
    "    # Загрузка и обработка изображения\n",
    "    img_array = load_image(input_path)\n",
    "    # Измеряем время начала обработки\n",
    "    start = time.time()\n",
    "    # Применение медианного фильтра с использованием CUDA ядра\n",
    "    output_img_array = apply_median_filter(img_array)\n",
    "    # Сохранение результата\n",
    "    save_image(output_img_array, output_path)\n",
    "    print(f\"Output image saved as {output_path}\")\n",
    "    print(f\"Time taken: {time.time() - start:.3f} seconds\")"
   ]
  }
 ],
 "metadata": {
  "accelerator": "GPU",
  "colab": {
   "gpuType": "T4",
   "provenance": []
  },
  "kernelspec": {
   "display_name": "Python 3",
   "language": "python",
   "name": "python3"
  },
  "language_info": {
   "codemirror_mode": {
    "name": "ipython",
    "version": 3
   },
   "file_extension": ".py",
   "mimetype": "text/x-python",
   "name": "python",
   "nbconvert_exporter": "python",
   "pygments_lexer": "ipython3",
   "version": "3.8.8"
  }
 },
 "nbformat": 4,
 "nbformat_minor": 1
}
